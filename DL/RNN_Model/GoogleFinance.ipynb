{
 "cells": [
  {
   "cell_type": "code",
   "execution_count": 1,
   "metadata": {},
   "outputs": [
    {
     "name": "stdout",
     "output_type": "stream",
     "text": [
      "YF.download() has changed argument auto_adjust default to True\n"
     ]
    },
    {
     "name": "stderr",
     "output_type": "stream",
     "text": [
      "[*********************100%***********************]  1 of 1 completed"
     ]
    },
    {
     "name": "stdout",
     "output_type": "stream",
     "text": [
      "Price              Close          High           Low          Open    Volume\n",
      "Ticker         005930.KS     005930.KS     005930.KS     005930.KS 005930.KS\n",
      "Date                                                                        \n",
      "2015-01-02  20902.927734  21060.092605  20855.778273  21060.092605   8774950\n",
      "2015-01-05  20950.080078  20997.229546  20635.750295  20997.229546  10139500\n",
      "2015-01-06  20352.849609  20698.612305  20242.834206  20667.179333  15235500\n",
      "2015-01-07  20541.445312  20604.311251  20148.533199  20337.131013  14322750\n",
      "2015-01-08  20651.464844  21044.377036  20588.598893  21044.377036  14477600\n"
     ]
    },
    {
     "name": "stderr",
     "output_type": "stream",
     "text": [
      "\n"
     ]
    }
   ],
   "source": [
    "import yfinance as yf\n",
    "import pandas as pd\n",
    "\n",
    "symbol = \"005930.KS\"\n",
    "df = yf.download(symbol, start=\"2015-01-01\", end=\"2024-12-31\")\n",
    "\n",
    "print(df.head())\n",
    "\n",
    "df.to_csv(\"samsung_stock.csv\")\n"
   ]
  },
  {
   "cell_type": "code",
   "execution_count": null,
   "metadata": {},
   "outputs": [],
   "source": []
  }
 ],
 "metadata": {
  "kernelspec": {
   "display_name": "ml_venv",
   "language": "python",
   "name": "python3"
  },
  "language_info": {
   "codemirror_mode": {
    "name": "ipython",
    "version": 3
   },
   "file_extension": ".py",
   "mimetype": "text/x-python",
   "name": "python",
   "nbconvert_exporter": "python",
   "pygments_lexer": "ipython3",
   "version": "3.10.12"
  }
 },
 "nbformat": 4,
 "nbformat_minor": 2
}
