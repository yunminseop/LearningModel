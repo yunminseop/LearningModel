{
 "cells": [
  {
   "cell_type": "code",
   "execution_count": null,
   "metadata": {},
   "outputs": [
    {
     "name": "stdout",
     "output_type": "stream",
     "text": [
      "YF.download() has changed argument auto_adjust default to True\n"
     ]
    },
    {
     "name": "stderr",
     "output_type": "stream",
     "text": [
      "[*********************100%***********************]  1 of 1 completed"
     ]
    },
    {
     "name": "stdout",
     "output_type": "stream",
     "text": [
      "Price              Close          High           Low          Open    Volume\n",
      "Ticker         005930.KS     005930.KS     005930.KS     005930.KS 005930.KS\n",
      "Date                                                                        \n",
      "2023-01-02  53213.734375  53789.017990  52926.092568  53213.734375  10031448\n",
      "2023-01-03  53117.855469  53693.139102  52254.930019  53117.855469  13547030\n",
      "2023-01-04  55418.992188  55610.753406  53309.618782  53405.499392  20188071\n",
      "2023-01-05  55802.515625  56377.799291  55227.231959  55802.515625  15682826\n",
      "2023-01-06  56569.554688  56953.077092  55514.868075  55898.390479  17334989\n"
     ]
    },
    {
     "name": "stderr",
     "output_type": "stream",
     "text": [
      "\n"
     ]
    }
   ],
   "source": [
    "import yfinance as yf\n",
    "import pandas as pd\n",
    "\n",
    "symbol = \"005930.KS\"\n",
    "df = yf.download(symbol, start=\"2023-01-01\", end=\"2024-03-01\")\n",
    "\n",
    "print(df.head())\n",
    "\n",
    "df.to_csv(\"samsung_stock.csv\")\n"
   ]
  },
  {
   "cell_type": "code",
   "execution_count": null,
   "metadata": {},
   "outputs": [],
   "source": []
  }
 ],
 "metadata": {
  "kernelspec": {
   "display_name": "ml_venv",
   "language": "python",
   "name": "python3"
  },
  "language_info": {
   "codemirror_mode": {
    "name": "ipython",
    "version": 3
   },
   "file_extension": ".py",
   "mimetype": "text/x-python",
   "name": "python",
   "nbconvert_exporter": "python",
   "pygments_lexer": "ipython3",
   "version": "3.10.12"
  }
 },
 "nbformat": 4,
 "nbformat_minor": 2
}
