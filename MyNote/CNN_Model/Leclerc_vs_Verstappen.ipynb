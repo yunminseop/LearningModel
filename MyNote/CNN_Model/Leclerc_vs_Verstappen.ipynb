{
 "cells": [
  {
   "cell_type": "code",
   "execution_count": 94,
   "metadata": {},
   "outputs": [],
   "source": [
    "import numpy as np\n",
    "import matplotlib\n",
    "import matplotlib.pyplot as plt\n",
    "import tensorflow as tf\n",
    "import re\n",
    "import os\n",
    "import cv2\n",
    "from PIL import Image\n",
    "from tensorflow.keras.datasets import mnist\n",
    "from tensorflow.keras.models import Sequential\n",
    "from tensorflow.keras.layers import Conv2D, MaxPooling2D, Dense, Flatten, Dropout\n",
    "from tensorflow.keras.optimizers import Adam"
   ]
  },
  {
   "cell_type": "code",
   "execution_count": 18,
   "metadata": {},
   "outputs": [],
   "source": [
    "(x_extr, y_extr), (x_exte, y_exte) = mnist.load_data()"
   ]
  },
  {
   "cell_type": "code",
   "execution_count": 26,
   "metadata": {},
   "outputs": [
    {
     "name": "stdout",
     "output_type": "stream",
     "text": [
      "<class 'numpy.ndarray'>\n"
     ]
    }
   ],
   "source": [
    "print(type(x_exte))"
   ]
  },
  {
   "cell_type": "markdown",
   "metadata": {},
   "source": [
    "##### Verstappen vs Leclerc"
   ]
  },
  {
   "cell_type": "markdown",
   "metadata": {},
   "source": [
    "Verstappen images list"
   ]
  },
  {
   "cell_type": "code",
   "execution_count": 9,
   "metadata": {},
   "outputs": [
    {
     "name": "stdout",
     "output_type": "stream",
     "text": [
      "['ver20.jpg', 'ver8.jpg', 'ver37.jpg', 'ver13.jpg', 'ver17.jpg', 'ver26.jpg', 'ver23.jpg', 'ver3.jpg', 'ver6.jpg', 'ver22.jpg', 'ver15.jpg', 'ver14.jpg', 'ver1.jpg', 'ver36.jpg', 'ver5.jpg', 'ver4.jpg', 'ver34.jpg', 'ver41.jpg', 'ver7.jpg', 'ver39.jpg', 'ver10.jpg', 'ver24.jpg', 'ver32.jpg', 'ver16.jpg', 'ver35.jpg', 'ver12.jpg', 'ver29.jpg', 'ver33.jpg', 'ver2.jpg', 'ver9.jpg', 'ver28.jpg', 'ver19.jpg', 'ver40.jpg', 'ver18.jpg', 'ver30.jpg', 'ver31.jpg', 'ver25.jpng', 'ver11.jpg', 'ver21.jpg', 'ver38.jpg', 'ver27.jpg']\n",
      "length: 41\n"
     ]
    }
   ],
   "source": [
    "img_ver_list = os.listdir(\"/home/yms/ws/mldl/data/verstappen\")\n",
    "print(img_ver_list)\n",
    "print(f\"length: {len(img_ver_list)}\")"
   ]
  },
  {
   "cell_type": "code",
   "execution_count": 105,
   "metadata": {},
   "outputs": [
    {
     "name": "stdout",
     "output_type": "stream",
     "text": [
      "(272, 461, 4)\n"
     ]
    }
   ],
   "source": [
    "img_v_list = Image.open(\"/home/yms/ws/mldl/data/verstappen/ver23.jpg\")\n",
    "img_v_array = np.array(img_v_list)\n",
    "\n",
    "print(img_v_array.shape)"
   ]
  },
  {
   "cell_type": "code",
   "execution_count": 120,
   "metadata": {},
   "outputs": [
    {
     "data": {
      "text/plain": [
       "(272, 461, 3)"
      ]
     },
     "execution_count": 120,
     "metadata": {},
     "output_type": "execute_result"
    }
   ],
   "source": [
    "# img_v_array = img_v_array[:,:,:3]\n",
    "img_v_array.shape"
   ]
  },
  {
   "cell_type": "code",
   "execution_count": 104,
   "metadata": {},
   "outputs": [
    {
     "data": {
      "text/plain": [
       "array([[0.7204639 , 0.49734796],\n",
       "       [0.66922292, 0.77051632],\n",
       "       [0.07804183, 0.52045532]])"
      ]
     },
     "execution_count": 104,
     "metadata": {},
     "output_type": "execute_result"
    }
   ],
   "source": [
    "a = np.random.random((3, 2))\n",
    "a"
   ]
  },
  {
   "cell_type": "markdown",
   "metadata": {},
   "source": [
    "Leclerc images list"
   ]
  },
  {
   "cell_type": "code",
   "execution_count": 10,
   "metadata": {},
   "outputs": [
    {
     "name": "stdout",
     "output_type": "stream",
     "text": [
      "['leclerc36.jpg', 'leclerc20.jpg', 'leclerc30.jpg', 'leclerc9.jpg', 'leclerc35.jpg', 'leclerc29.jpg', 'leclerc23.jpg', 'leclerc5.jpg', 'leclerc34.jpg', 'leclerc14.jpg', 'leclerc22.jpg', 'leclerc6.jpg', 'leclerc16.jpg', 'leclerc41.jpg', 'leclerc21.jpg', 'leclerc7.jpg', 'leclerc40.jpg', 'leclerc15.jpg', 'leclerc32.jpg', 'leclerc8.jpg', 'leclerc2.jpg', 'leclerc3.jpg', 'leclerc1.jpg', 'leclerc24.jpg', 'leclerc39.jpg', 'leclerc19.jpg', 'leclerc12.jpg', 'leclerc10.jpg', 'leclerc26.jpg', 'leclerc13.jpg', 'leclerc38.jpg', 'leclerc28.jpg', 'leclerc33.jpg', 'leclerc18.jpg', 'leclerc31.jpg', 'leclerc25.jg', 'leclerc27.jpg', 'leclerc17.jpg', 'leclerc4.jpg', 'leclerc37.jpg', 'leclerc11.jpg']\n",
      "length: 41\n"
     ]
    }
   ],
   "source": [
    "img_lec_list = os.listdir(\"/home/yms/ws/mldl/data/leclerc\")\n",
    "print(img_lec_list)\n",
    "print(f\"length: {len(img_lec_list)}\")"
   ]
  },
  {
   "cell_type": "code",
   "execution_count": 132,
   "metadata": {},
   "outputs": [
    {
     "name": "stdout",
     "output_type": "stream",
     "text": [
      "36\n",
      "leclerc\n"
     ]
    }
   ],
   "source": [
    "word = 'leclerc36.jpg'\n",
    "matchcase = re.findall('\\d+', word)[0]\n",
    "matchname = re.findall('[a-z]+', word)[0]\n",
    "print(matchcase)\n",
    "print(matchname)"
   ]
  },
  {
   "cell_type": "code",
   "execution_count": 129,
   "metadata": {},
   "outputs": [
    {
     "name": "stdout",
     "output_type": "stream",
     "text": [
      "[0.]\n",
      "(1,)\n"
     ]
    }
   ],
   "source": [
    "test = np.empty((1))\n",
    "print(test)\n",
    "print(test.shape)"
   ]
  },
  {
   "cell_type": "code",
   "execution_count": 191,
   "metadata": {},
   "outputs": [],
   "source": [
    "class preprocess:\n",
    "    def __init__(self, path):\n",
    "        self.path = path\n",
    "        self.dir_list = os.listdir(path)\n",
    "        self.img = np.empty((1,0))\n",
    "        self.label = np.empty((1,0))\n",
    "\n",
    "        self.x_train = np.empty((1,0))\n",
    "        self.y_train = np.empty((1,0))\n",
    "        self.x_test = np.empty((1,0))\n",
    "        self.y_test = np.empty((1,0))\n",
    "        print(f\"dir_list: {self.dir_list}\")\n",
    "\n",
    "    def show_shape(self):\n",
    "        print(f\"x_train shape: {self.x_train.shape}\")\n",
    "        print(f\"x_test shape: {self.x_test.shape}\")\n",
    "        print(f\"y_train shape: {self.y_train.shape}\")\n",
    "        print(f\"y_test shape: {self.y_test.shape}\")\n",
    "\n",
    "    def load_data(self):\n",
    "\n",
    "        for dir in self.dir_list:\n",
    "            for img in os.listdir(self.path+'/'+dir):\n",
    "                name = (re.findall('[a-z]+', img)[0])\n",
    "                num = int(re.findall('\\d+', img)[0])\n",
    "                print(self.path+'/'+dir+'/'+img)\n",
    "\n",
    "                img_to_convert = Image.open(self.path+'/'+dir+'/'+img)\n",
    "                img_array = np.array(img_to_convert)\n",
    "\n",
    "                if 1 <= num <= 30:\n",
    "                    self.x_train = np.append(self.x_train, img_array)\n",
    "                    if name == \"leclerc\":\n",
    "                        self.y_train = np.append(self.y_train, 0)\n",
    "                    elif name == 'ver':\n",
    "                        self.y_train = np.append(self.y_train, 1)\n",
    "                        \n",
    "                elif 31 <= num <= 41:\n",
    "                    self.x_test = np.append(self.x_test, img_array)\n",
    "                    if name == \"leclerc\":\n",
    "                        self.y_test = np.append(self.y_test, 0)\n",
    "                    elif name == \"ver\":\n",
    "                        self.y_test = np.append(self.y_test, 1)\n",
    "\n",
    "    def reshape(self):\n",
    "        target_size = (256, 256, 3)\n",
    "\n",
    "        for each in self.x_train:\n",
    "            each = cv2.resize(each, target_size)\n",
    "            \n",
    "        for each in self.y_train:\n",
    "            each = cv2.resize(each, target_size)\n",
    "\n",
    "        for each in self.x_test:\n",
    "            each = cv2.resize(each, target_size)\n",
    "            \n",
    "        for each in self.y_test:\n",
    "            each = cv2.resize(each, target_size)"
   ]
  },
  {
   "cell_type": "code",
   "execution_count": 192,
   "metadata": {},
   "outputs": [
    {
     "name": "stdout",
     "output_type": "stream",
     "text": [
      "dir_list: ['leclerc', 'verstappen']\n"
     ]
    }
   ],
   "source": [
    "datasets = preprocess(\"/home/yms/ws/mldl/data/f1driver\")"
   ]
  },
  {
   "cell_type": "code",
   "execution_count": 193,
   "metadata": {},
   "outputs": [
    {
     "name": "stdout",
     "output_type": "stream",
     "text": [
      "/home/yms/ws/mldl/data/f1driver/leclerc/leclerc36.jpg\n",
      "/home/yms/ws/mldl/data/f1driver/leclerc/leclerc20.jpg\n",
      "/home/yms/ws/mldl/data/f1driver/leclerc/leclerc30.jpg\n",
      "/home/yms/ws/mldl/data/f1driver/leclerc/leclerc9.jpg\n",
      "/home/yms/ws/mldl/data/f1driver/leclerc/leclerc35.jpg\n",
      "/home/yms/ws/mldl/data/f1driver/leclerc/leclerc29.jpg\n",
      "/home/yms/ws/mldl/data/f1driver/leclerc/leclerc23.jpg\n",
      "/home/yms/ws/mldl/data/f1driver/leclerc/leclerc5.jpg\n",
      "/home/yms/ws/mldl/data/f1driver/leclerc/leclerc34.jpg\n",
      "/home/yms/ws/mldl/data/f1driver/leclerc/leclerc14.jpg\n",
      "/home/yms/ws/mldl/data/f1driver/leclerc/leclerc22.jpg\n",
      "/home/yms/ws/mldl/data/f1driver/leclerc/leclerc6.jpg\n",
      "/home/yms/ws/mldl/data/f1driver/leclerc/leclerc16.jpg\n",
      "/home/yms/ws/mldl/data/f1driver/leclerc/leclerc41.jpg\n",
      "/home/yms/ws/mldl/data/f1driver/leclerc/leclerc21.jpg\n",
      "/home/yms/ws/mldl/data/f1driver/leclerc/leclerc7.jpg\n",
      "/home/yms/ws/mldl/data/f1driver/leclerc/leclerc40.jpg\n",
      "/home/yms/ws/mldl/data/f1driver/leclerc/leclerc15.jpg\n",
      "/home/yms/ws/mldl/data/f1driver/leclerc/leclerc32.jpg\n",
      "/home/yms/ws/mldl/data/f1driver/leclerc/leclerc8.jpg\n",
      "/home/yms/ws/mldl/data/f1driver/leclerc/leclerc2.jpg\n",
      "/home/yms/ws/mldl/data/f1driver/leclerc/leclerc3.jpg\n",
      "/home/yms/ws/mldl/data/f1driver/leclerc/leclerc1.jpg\n",
      "/home/yms/ws/mldl/data/f1driver/leclerc/leclerc24.jpg\n",
      "/home/yms/ws/mldl/data/f1driver/leclerc/leclerc39.jpg\n",
      "/home/yms/ws/mldl/data/f1driver/leclerc/leclerc19.jpg\n",
      "/home/yms/ws/mldl/data/f1driver/leclerc/leclerc12.jpg\n",
      "/home/yms/ws/mldl/data/f1driver/leclerc/leclerc10.jpg\n",
      "/home/yms/ws/mldl/data/f1driver/leclerc/leclerc26.jpg\n",
      "/home/yms/ws/mldl/data/f1driver/leclerc/leclerc13.jpg\n",
      "/home/yms/ws/mldl/data/f1driver/leclerc/leclerc38.jpg\n",
      "/home/yms/ws/mldl/data/f1driver/leclerc/leclerc28.jpg\n",
      "/home/yms/ws/mldl/data/f1driver/leclerc/leclerc33.jpg\n",
      "/home/yms/ws/mldl/data/f1driver/leclerc/leclerc18.jpg\n",
      "/home/yms/ws/mldl/data/f1driver/leclerc/leclerc31.jpg\n",
      "/home/yms/ws/mldl/data/f1driver/leclerc/leclerc25.jg\n",
      "/home/yms/ws/mldl/data/f1driver/leclerc/leclerc27.jpg\n",
      "/home/yms/ws/mldl/data/f1driver/leclerc/leclerc17.jpg\n",
      "/home/yms/ws/mldl/data/f1driver/leclerc/leclerc4.jpg\n",
      "/home/yms/ws/mldl/data/f1driver/leclerc/leclerc37.jpg\n",
      "/home/yms/ws/mldl/data/f1driver/leclerc/leclerc11.jpg\n",
      "/home/yms/ws/mldl/data/f1driver/verstappen/ver20.jpg\n",
      "/home/yms/ws/mldl/data/f1driver/verstappen/ver8.jpg\n",
      "/home/yms/ws/mldl/data/f1driver/verstappen/ver37.jpg\n",
      "/home/yms/ws/mldl/data/f1driver/verstappen/ver13.jpg\n",
      "/home/yms/ws/mldl/data/f1driver/verstappen/ver17.jpg\n",
      "/home/yms/ws/mldl/data/f1driver/verstappen/ver26.jpg\n",
      "/home/yms/ws/mldl/data/f1driver/verstappen/ver23.jpg\n",
      "/home/yms/ws/mldl/data/f1driver/verstappen/ver3.jpg\n",
      "/home/yms/ws/mldl/data/f1driver/verstappen/ver6.jpg\n",
      "/home/yms/ws/mldl/data/f1driver/verstappen/ver22.jpg\n",
      "/home/yms/ws/mldl/data/f1driver/verstappen/ver15.jpg\n",
      "/home/yms/ws/mldl/data/f1driver/verstappen/ver14.jpg\n",
      "/home/yms/ws/mldl/data/f1driver/verstappen/ver1.jpg\n",
      "/home/yms/ws/mldl/data/f1driver/verstappen/ver36.jpg\n",
      "/home/yms/ws/mldl/data/f1driver/verstappen/ver5.jpg\n",
      "/home/yms/ws/mldl/data/f1driver/verstappen/ver4.jpg\n",
      "/home/yms/ws/mldl/data/f1driver/verstappen/ver34.jpg\n",
      "/home/yms/ws/mldl/data/f1driver/verstappen/ver41.jpg\n",
      "/home/yms/ws/mldl/data/f1driver/verstappen/ver7.jpg\n",
      "/home/yms/ws/mldl/data/f1driver/verstappen/ver39.jpg\n",
      "/home/yms/ws/mldl/data/f1driver/verstappen/ver10.jpg\n",
      "/home/yms/ws/mldl/data/f1driver/verstappen/ver24.jpg\n",
      "/home/yms/ws/mldl/data/f1driver/verstappen/ver32.jpg\n",
      "/home/yms/ws/mldl/data/f1driver/verstappen/ver16.jpg\n",
      "/home/yms/ws/mldl/data/f1driver/verstappen/ver35.jpg\n",
      "/home/yms/ws/mldl/data/f1driver/verstappen/ver12.jpg\n",
      "/home/yms/ws/mldl/data/f1driver/verstappen/ver29.jpg\n",
      "/home/yms/ws/mldl/data/f1driver/verstappen/ver33.jpg\n",
      "/home/yms/ws/mldl/data/f1driver/verstappen/ver2.jpg\n",
      "/home/yms/ws/mldl/data/f1driver/verstappen/ver9.jpg\n",
      "/home/yms/ws/mldl/data/f1driver/verstappen/ver28.jpg\n",
      "/home/yms/ws/mldl/data/f1driver/verstappen/ver19.jpg\n",
      "/home/yms/ws/mldl/data/f1driver/verstappen/ver40.jpg\n",
      "/home/yms/ws/mldl/data/f1driver/verstappen/ver18.jpg\n",
      "/home/yms/ws/mldl/data/f1driver/verstappen/ver30.jpg\n",
      "/home/yms/ws/mldl/data/f1driver/verstappen/ver31.jpg\n",
      "/home/yms/ws/mldl/data/f1driver/verstappen/ver25.jpng\n",
      "/home/yms/ws/mldl/data/f1driver/verstappen/ver11.jpg\n",
      "/home/yms/ws/mldl/data/f1driver/verstappen/ver21.jpg\n",
      "/home/yms/ws/mldl/data/f1driver/verstappen/ver38.jpg\n",
      "/home/yms/ws/mldl/data/f1driver/verstappen/ver27.jpg\n"
     ]
    }
   ],
   "source": [
    "datasets.load_data()"
   ]
  },
  {
   "cell_type": "code",
   "execution_count": 173,
   "metadata": {},
   "outputs": [
    {
     "name": "stdout",
     "output_type": "stream",
     "text": [
      "x_train: ['leclerc20.jpg' 'leclerc30.jpg' 'leclerc9.jpg' 'leclerc29.jpg'\n",
      " 'leclerc23.jpg' 'leclerc5.jpg' 'leclerc14.jpg' 'leclerc22.jpg'\n",
      " 'leclerc6.jpg' 'leclerc16.jpg' 'leclerc21.jpg' 'leclerc7.jpg'\n",
      " 'leclerc15.jpg' 'leclerc8.jpg' 'leclerc2.jpg' 'leclerc3.jpg'\n",
      " 'leclerc1.jpg' 'leclerc24.jpg' 'leclerc19.jpg' 'leclerc12.jpg'\n",
      " 'leclerc10.jpg' 'leclerc26.jpg' 'leclerc13.jpg' 'leclerc28.jpg'\n",
      " 'leclerc18.jpg' 'leclerc25.jg' 'leclerc27.jpg' 'leclerc17.jpg'\n",
      " 'leclerc4.jpg' 'leclerc11.jpg' 'ver20.jpg' 'ver8.jpg' 'ver13.jpg'\n",
      " 'ver17.jpg' 'ver26.jpg' 'ver23.jpg' 'ver3.jpg' 'ver6.jpg' 'ver22.jpg'\n",
      " 'ver15.jpg' 'ver14.jpg' 'ver1.jpg' 'ver5.jpg' 'ver4.jpg' 'ver7.jpg'\n",
      " 'ver10.jpg' 'ver24.jpg' 'ver16.jpg' 'ver12.jpg' 'ver29.jpg' 'ver2.jpg'\n",
      " 'ver9.jpg' 'ver28.jpg' 'ver19.jpg' 'ver18.jpg' 'ver30.jpg' 'ver25.jpng'\n",
      " 'ver11.jpg' 'ver21.jpg' 'ver27.jpg']\n",
      "x_test: ['leclerc36.jpg' 'leclerc35.jpg' 'leclerc34.jpg' 'leclerc41.jpg'\n",
      " 'leclerc40.jpg' 'leclerc32.jpg' 'leclerc39.jpg' 'leclerc38.jpg'\n",
      " 'leclerc33.jpg' 'leclerc31.jpg' 'leclerc37.jpg' 'ver37.jpg' 'ver36.jpg'\n",
      " 'ver34.jpg' 'ver41.jpg' 'ver39.jpg' 'ver32.jpg' 'ver35.jpg' 'ver33.jpg'\n",
      " 'ver40.jpg' 'ver31.jpg' 'ver38.jpg']\n",
      "train_label: [0. 0. 0. 0. 0. 0. 0. 0. 0. 0. 0. 0. 0. 0. 0. 0. 0. 0. 0. 0. 0. 0. 0. 0.\n",
      " 0. 0. 0. 0. 0. 0. 1. 1. 1. 1. 1. 1. 1. 1. 1. 1. 1. 1. 1. 1. 1. 1. 1. 1.\n",
      " 1. 1. 1. 1. 1. 1. 1. 1. 1. 1. 1. 1.]\n",
      "test_label: [0. 0. 0. 0. 0. 0. 0. 0. 0. 0. 0. 1. 1. 1. 1. 1. 1. 1. 1. 1. 1. 1.]\n"
     ]
    }
   ],
   "source": [
    "print(f\"x_train: {datasets.x_train}\")\n",
    "print(f\"x_test: {datasets.x_test}\")\n",
    "print(f\"train_label: {datasets.y_train}\")\n",
    "print(f\"test_label: {datasets.y_test}\")"
   ]
  },
  {
   "cell_type": "code",
   "execution_count": 174,
   "metadata": {},
   "outputs": [
    {
     "name": "stdout",
     "output_type": "stream",
     "text": [
      "x_train shape: (60,)\n",
      "x_test shape: (22,)\n",
      "y_train shape: (60,)\n",
      "y_test shape: (22,)\n"
     ]
    }
   ],
   "source": [
    "datasets.show_shape()"
   ]
  },
  {
   "cell_type": "code",
   "execution_count": 175,
   "metadata": {},
   "outputs": [
    {
     "ename": "error",
     "evalue": "OpenCV(4.10.0) :-1: error: (-5:Bad argument) in function 'resize'\n> Overload resolution failed:\n>  - src is not a numpy array, neither a scalar\n>  - Expected Ptr<cv::UMat> for argument 'src'\n",
     "output_type": "error",
     "traceback": [
      "\u001b[0;31m---------------------------------------------------------------------------\u001b[0m",
      "\u001b[0;31merror\u001b[0m                                     Traceback (most recent call last)",
      "Cell \u001b[0;32mIn[175], line 1\u001b[0m\n\u001b[0;32m----> 1\u001b[0m \u001b[43mdatasets\u001b[49m\u001b[38;5;241;43m.\u001b[39;49m\u001b[43mreshape\u001b[49m\u001b[43m(\u001b[49m\u001b[43m)\u001b[49m\n",
      "Cell \u001b[0;32mIn[170], line 49\u001b[0m, in \u001b[0;36mpreprocess.reshape\u001b[0;34m(self)\u001b[0m\n\u001b[1;32m     46\u001b[0m target_size \u001b[38;5;241m=\u001b[39m (\u001b[38;5;241m256\u001b[39m, \u001b[38;5;241m256\u001b[39m, \u001b[38;5;241m3\u001b[39m)\n\u001b[1;32m     48\u001b[0m \u001b[38;5;28;01mfor\u001b[39;00m each \u001b[38;5;129;01min\u001b[39;00m \u001b[38;5;28mself\u001b[39m\u001b[38;5;241m.\u001b[39mx_train:\n\u001b[0;32m---> 49\u001b[0m     each \u001b[38;5;241m=\u001b[39m \u001b[43mcv2\u001b[49m\u001b[38;5;241;43m.\u001b[39;49m\u001b[43mresize\u001b[49m\u001b[43m(\u001b[49m\u001b[43meach\u001b[49m\u001b[43m,\u001b[49m\u001b[43m \u001b[49m\u001b[43mtarget_size\u001b[49m\u001b[43m)\u001b[49m\n\u001b[1;32m     51\u001b[0m \u001b[38;5;28;01mfor\u001b[39;00m each \u001b[38;5;129;01min\u001b[39;00m \u001b[38;5;28mself\u001b[39m\u001b[38;5;241m.\u001b[39my_train:\n\u001b[1;32m     52\u001b[0m     each \u001b[38;5;241m=\u001b[39m cv2\u001b[38;5;241m.\u001b[39mresize(each, target_size)\n",
      "\u001b[0;31merror\u001b[0m: OpenCV(4.10.0) :-1: error: (-5:Bad argument) in function 'resize'\n> Overload resolution failed:\n>  - src is not a numpy array, neither a scalar\n>  - Expected Ptr<cv::UMat> for argument 'src'\n"
     ]
    }
   ],
   "source": [
    "datasets.reshape()"
   ]
  },
  {
   "cell_type": "code",
   "execution_count": null,
   "metadata": {},
   "outputs": [],
   "source": []
  }
 ],
 "metadata": {
  "kernelspec": {
   "display_name": "ml_venv",
   "language": "python",
   "name": "python3"
  },
  "language_info": {
   "codemirror_mode": {
    "name": "ipython",
    "version": 3
   },
   "file_extension": ".py",
   "mimetype": "text/x-python",
   "name": "python",
   "nbconvert_exporter": "python",
   "pygments_lexer": "ipython3",
   "version": "3.10.12"
  }
 },
 "nbformat": 4,
 "nbformat_minor": 2
}
